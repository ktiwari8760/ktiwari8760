{
  "nbformat": 4,
  "nbformat_minor": 0,
  "metadata": {
    "colab": {
      "provenance": [],
      "authorship_tag": "ABX9TyMVa6BQ+CWKP38GIndSWeeb",
      "include_colab_link": true
    },
    "kernelspec": {
      "name": "python3",
      "display_name": "Python 3"
    },
    "language_info": {
      "name": "python"
    }
  },
  "cells": [
    {
      "cell_type": "markdown",
      "metadata": {
        "id": "view-in-github",
        "colab_type": "text"
      },
      "source": [
        "<a href=\"https://colab.research.google.com/github/ktiwari8760/ktiwari8760/blob/main/Untitled35.ipynb\" target=\"_parent\"><img src=\"https://colab.research.google.com/assets/colab-badge.svg\" alt=\"Open In Colab\"/></a>"
      ]
    },
    {
      "cell_type": "code",
      "execution_count": 1,
      "metadata": {
        "colab": {
          "base_uri": "https://localhost:8080/"
        },
        "id": "kU1ApDAz1kVU",
        "outputId": "fe5d143b-41eb-40c8-d35e-0ba6ce6f3afe"
      },
      "outputs": [
        {
          "output_type": "stream",
          "name": "stdout",
          "text": [
            "Hello , World\n"
          ]
        }
      ],
      "source": [
        "# firstly we tried to print the famous hello world in python\n",
        "print(\"Hello , World\")"
      ]
    },
    {
      "cell_type": "code",
      "source": [
        "#Next we tried to input the name of a person and tried to say hello to him\n",
        "x = input(\"Please enter your name ?\")\n",
        "print(\"hello \" + x  , end = \" \")\n",
        "# we have put value of end = \" \" as it's default value is end = \" /n \" which stands\n",
        "#for new line which we want to avoid in this case\n",
        "''' we also have a parameter known as sep which stands for seperation\n",
        "if we try to print our value like ( print (\"hello\" , x )) then since sep has a value\n",
        "of a space by default we are saying this as put a value of sep as \"%\" or any other\n",
        "the hello % kartik would get printed '''\n"
      ],
      "metadata": {
        "colab": {
          "base_uri": "https://localhost:8080/"
        },
        "id": "RoP27K4T10uv",
        "outputId": "397faaf1-90bb-4e4c-cdfd-edfcb1afab32"
      },
      "execution_count": 10,
      "outputs": [
        {
          "output_type": "stream",
          "name": "stdout",
          "text": [
            "Please enter your name ?kartik\n",
            "hello kartik "
          ]
        }
      ]
    },
    {
      "cell_type": "code",
      "source": [
        "#Now what happens if anyone gets spaces in starting or ending in the string entering\n",
        "# we use strip method which removes the starting and ending spaces from string if exists\n",
        "# similarly capitalize method capatilizes first character and title capitalizes all the first charecter of words\n",
        "\n",
        "x = \"    dAVID pRAKASH      \"\n",
        "X_STRIP = x.strip()\n",
        "print(X_STRIP)\n",
        "x_capitalize = x.capitalize()\n",
        "print(x_capitalize)\n",
        "print(x.title())"
      ],
      "metadata": {
        "colab": {
          "base_uri": "https://localhost:8080/"
        },
        "id": "_htA8PC13aYQ",
        "outputId": "87b7db10-0c26-415d-9c09-a98579146abb"
      },
      "execution_count": 16,
      "outputs": [
        {
          "output_type": "stream",
          "name": "stdout",
          "text": [
            "dAVID pRAKASH\n",
            "    david prakash      \n",
            "    David Prakash      \n"
          ]
        }
      ]
    },
    {
      "cell_type": "code",
      "source": [
        "#No we try to input a number and print sum for them\n",
        "\n",
        "x = int(input(\"Plese enter the first number x --->\"))\n",
        "y = int(input(\"Plese enter the second number y --->\"))\n",
        "sum = print(f\"Here is the sum for x & y {x+y}\")"
      ],
      "metadata": {
        "colab": {
          "base_uri": "https://localhost:8080/"
        },
        "id": "LxXN3_6p4GxN",
        "outputId": "a9c333da-291c-46ce-a652-032f75e17173"
      },
      "execution_count": 17,
      "outputs": [
        {
          "output_type": "stream",
          "name": "stdout",
          "text": [
            "Plese enter the first number x --->10\n",
            "Plese enter the second number y --->20\n",
            "Here is the sum for x & y 30\n"
          ]
        }
      ]
    },
    {
      "cell_type": "code",
      "source": [
        "# we also have an other datatype here float\n",
        "x = float(input(\"Plese enter the first number x --->\"))\n",
        "y = float(input(\"Plese enter the second number y --->\"))\n",
        "sum = print(f\"Here is the sum for x & y {x+y}\")\n",
        "\n",
        "# we can round a number to it's neares digit\n",
        "#round(number[,ndigits=]) ---> we can specify the number of digits we want to round off\n",
        "\n",
        "sum = print(round(x+y))\n"
      ],
      "metadata": {
        "colab": {
          "base_uri": "https://localhost:8080/"
        },
        "id": "lky3BeZT5EDf",
        "outputId": "914f8467-0f37-41f0-ac47-276b4517514e"
      },
      "execution_count": 27,
      "outputs": [
        {
          "output_type": "stream",
          "name": "stdout",
          "text": [
            "Plese enter the first number x --->999\n",
            "Plese enter the second number y --->1\n",
            "Here is the sum for x & y 1000.0\n",
            "1000\n"
          ]
        }
      ]
    },
    {
      "cell_type": "code",
      "source": [
        "x = float(input(\"Plese enter the first number x --->\"))\n",
        "y = float(input(\"Plese enter the second number y --->\"))\n",
        "z = x/y\n",
        "print(f\"{z:.3f}\")  #rounds of to two digits"
      ],
      "metadata": {
        "colab": {
          "base_uri": "https://localhost:8080/"
        },
        "id": "fT9Ip1vv7P4e",
        "outputId": "b46ad8b2-22dc-46c7-c8bb-07e0dc14c121"
      },
      "execution_count": 30,
      "outputs": [
        {
          "output_type": "stream",
          "name": "stdout",
          "text": [
            "Plese enter the first number x --->3\n",
            "Plese enter the second number y --->4\n",
            "0.750\n"
          ]
        }
      ]
    },
    {
      "cell_type": "code",
      "source": [
        "# To create ones own function which says hello\n",
        "\n",
        "def hello():\n",
        "  print(\"hello\" , end = \" \" )\n",
        "\n",
        "name = input(\"Please enter your name\")\n",
        "hello()\n",
        "print(name)"
      ],
      "metadata": {
        "colab": {
          "base_uri": "https://localhost:8080/"
        },
        "id": "3I0xkKe077rq",
        "outputId": "00b84d3a-b5df-4c9b-928a-cfb39bb21733"
      },
      "execution_count": 33,
      "outputs": [
        {
          "output_type": "stream",
          "name": "stdout",
          "text": [
            "Please enter your namekartik\n",
            "hello kartik\n"
          ]
        }
      ]
    },
    {
      "cell_type": "code",
      "source": [
        "# To create ones own function which says hello\n",
        "#now this function will have world as default value of to if nothing is pass in as\n",
        "# argument there then defaultly it will print hello world\n",
        "def hello(to = \"world\"):\n",
        "  print(\"hello\",to)\n",
        "\n",
        "name = input(\"Please enter your name\")\n",
        "hello(name)\n",
        "hello()"
      ],
      "metadata": {
        "colab": {
          "base_uri": "https://localhost:8080/"
        },
        "id": "m_jtohSU8t09",
        "outputId": "50a5d013-20ed-4200-f641-03c369c0240d"
      },
      "execution_count": 38,
      "outputs": [
        {
          "output_type": "stream",
          "name": "stdout",
          "text": [
            "Please enter your namekartik\n",
            "hello kartik\n",
            "hello world\n"
          ]
        }
      ]
    },
    {
      "cell_type": "code",
      "source": [
        "# Now since we have hello below the main we have to make a main function and have to call it at the end of program to avoid function not defined error\n",
        "def main():\n",
        "  name = input(\"Please enter your name\")\n",
        "  greeting = hello(name)\n",
        "  print(greeting)\n",
        "def hello(to = \"world\"):\n",
        "  return f\"hello {to}\"\n",
        "\n",
        "main()"
      ],
      "metadata": {
        "colab": {
          "base_uri": "https://localhost:8080/"
        },
        "id": "82BQvcIQ9Uj9",
        "outputId": "d86bbff6-a277-4750-8a5d-45a49b03f224"
      },
      "execution_count": 39,
      "outputs": [
        {
          "output_type": "stream",
          "name": "stdout",
          "text": [
            "Please enter your namekartik\n",
            "hello kartik\n"
          ]
        }
      ]
    },
    {
      "cell_type": "markdown",
      "source": [
        "Conditionals in Python"
      ],
      "metadata": {
        "id": "dQby_fJfCL6C"
      }
    },
    {
      "cell_type": "code",
      "source": [
        "# > < == != >= <= ---> conditional operators\n",
        "\n",
        "x = int(input(\"Please enter the first number x = ?\"))\n",
        "y = int(input(\"Please enter the second number y = ?\"))\n",
        "\n",
        "if (x < y):\n",
        "  print(f\"{x} is less than {y}\")\n",
        "\n",
        "if (x > y):\n",
        "  print(f\"{x} is greater than {y}\")\n",
        "\n",
        "if (x == y):\n",
        "  print(f\"{x} is equal to {y}\")"
      ],
      "metadata": {
        "colab": {
          "base_uri": "https://localhost:8080/"
        },
        "id": "l4Xu0IiiCRiT",
        "outputId": "1d4ad26b-47cc-4328-93f6-0194656172af"
      },
      "execution_count": 41,
      "outputs": [
        {
          "output_type": "stream",
          "name": "stdout",
          "text": [
            "Please enter the first number x = ?1\n",
            "Please enter the second number y = ?2\n",
            "1 is less than 2\n"
          ]
        }
      ]
    },
    {
      "cell_type": "code",
      "source": [
        "x = int(input(\"Please enter the first number x = ?\"))\n",
        "y = int(input(\"Please enter the second number y = ?\"))\n",
        "\n",
        "if (x < y):\n",
        "  print(f\"x = {x} is less than y = {y}\")\n",
        "\n",
        "elif (x > y):\n",
        "  print(f\"x = {x} is greater than y = {y}\")\n",
        "\n",
        "else:\n",
        "  print(f\"x = {x} is equal to y = {y}\")"
      ],
      "metadata": {
        "colab": {
          "base_uri": "https://localhost:8080/"
        },
        "id": "4gIjVbXBDo23",
        "outputId": "5cd9b2c6-dd42-4a43-dce4-e9061627e7fc"
      },
      "execution_count": 42,
      "outputs": [
        {
          "output_type": "stream",
          "name": "stdout",
          "text": [
            "Please enter the first number x = ?1\n",
            "Please enter the second number y = ?2\n",
            "1 is less than 2\n"
          ]
        }
      ]
    },
    {
      "cell_type": "code",
      "source": [
        "# we can use and or not\n",
        "\n",
        "x = int(input(\"Please enter the first number x = ?\"))\n",
        "y = int(input(\"Please enter the second number y = ?\"))\n",
        "\n",
        "if (x < y  or x > y):\n",
        "  print(f\"x = {x} is not equal to y = {y}\")\n",
        "else:\n",
        "  print(f\"x = {x} is equal to y = {y}\")"
      ],
      "metadata": {
        "colab": {
          "base_uri": "https://localhost:8080/"
        },
        "id": "3lqGHPkDEFMQ",
        "outputId": "6c14dfb5-a2dd-455d-b6a4-c7841d88ef92"
      },
      "execution_count": 44,
      "outputs": [
        {
          "output_type": "stream",
          "name": "stdout",
          "text": [
            "Please enter the first number x = ?12\n",
            "Please enter the second number y = ?1\n",
            "12 is not equal to 1\n"
          ]
        }
      ]
    },
    {
      "cell_type": "code",
      "source": [
        "# writing a code to check wether the number is even or odd\n",
        "\n",
        "x = int(input(\"Please enter the  number x = ?\"))\n",
        "if (x % 2 == 0):\n",
        "  print(\"the entered number is even \")\n",
        "else:\n",
        "  print(\"the entered number is odd\")"
      ],
      "metadata": {
        "colab": {
          "base_uri": "https://localhost:8080/"
        },
        "id": "UpY0QQkiGwq7",
        "outputId": "f4b93df9-2271-4cd3-c232-b68231eda83f"
      },
      "execution_count": 46,
      "outputs": [
        {
          "output_type": "stream",
          "name": "stdout",
          "text": [
            "Please enter the  number x = ?1\n",
            "the entered number is odd\n"
          ]
        }
      ]
    },
    {
      "cell_type": "code",
      "source": [
        "def main():\n",
        "  num = int(input(\"enter the value\"))\n",
        "  if is_even(num):\n",
        "    print(\"even\")\n",
        "  else:\n",
        "    print(\"odd\")\n",
        "\n",
        "\n",
        "def is_even(num):\n",
        "  return True if num%2 == 0 else False\n",
        "\n",
        "main()"
      ],
      "metadata": {
        "colab": {
          "base_uri": "https://localhost:8080/"
        },
        "id": "Bw8TiZuOJUFL",
        "outputId": "123f8b26-7220-4567-a91e-7f049b1cdc45"
      },
      "execution_count": 47,
      "outputs": [
        {
          "output_type": "stream",
          "name": "stdout",
          "text": [
            "enter the value10\n",
            "even\n"
          ]
        }
      ]
    },
    {
      "cell_type": "code",
      "source": [
        "# kind of switch case in python\n",
        "\n",
        "name = input(\"please enter the name\")\n",
        "\n",
        "match name:\n",
        "  case \"kartik\" | \"chandu\" | \"madiyaonthana\":\n",
        "    print(\"keshav nagar\")\n",
        "  case \"manish\":\n",
        "    print(\"shringar nagar\")\n",
        "  case \"chandu\":\n",
        "    print(\"keshav nagar\")\n",
        "  case \"mummy\":\n",
        "    print(\"krishna nagar\")\n",
        "  case _ :\n",
        "    print(\"Bhai kaun?\")"
      ],
      "metadata": {
        "colab": {
          "base_uri": "https://localhost:8080/"
        },
        "id": "yetzCTAHLo2_",
        "outputId": "33ed4500-9e36-4df2-ab06-c179357ef177"
      },
      "execution_count": 1,
      "outputs": [
        {
          "output_type": "stream",
          "name": "stdout",
          "text": [
            "please enter the namemadiyaonthana\n",
            "keshav nagar\n"
          ]
        }
      ]
    },
    {
      "cell_type": "code",
      "source": [],
      "metadata": {
        "id": "dMkdjwEhOEOv"
      },
      "execution_count": null,
      "outputs": []
    }
  ]
}